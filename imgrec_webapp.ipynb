{
 "cells": [
  {
   "cell_type": "code",
   "execution_count": 1,
   "metadata": {},
   "outputs": [],
   "source": [
    "import os\n",
    "from flask import Flask, request, redirect, url_for, render_template\n",
    "from werkzeug.utils import secure_filename\n",
    "app = Flask(__name__)\n",
    "from keras.models import load_model\n",
    "#from keras.backend import set_session\n",
    "from keras import backend as K\n",
    "#from tensorflow.python.keras import backend as K\n",
    "from tensorflow.compat.v1.keras import backend as K\n",
    "from skimage.transform import resize\n",
    "import matplotlib.pyplot as plt\n",
    "import tensorflow as tf\n",
    "import numpy as np"
   ]
  },
  {
   "cell_type": "code",
   "execution_count": 2,
   "metadata": {},
   "outputs": [
    {
     "name": "stdout",
     "output_type": "stream",
     "text": [
      "Loading model\n",
      " * Serving Flask app \"__main__\" (lazy loading)\n",
      " * Environment: production\n",
      "   WARNING: This is a development server. Do not use it in a production deployment.\n",
      "   Use a production WSGI server instead.\n",
      " * Debug mode: off\n"
     ]
    },
    {
     "name": "stderr",
     "output_type": "stream",
     "text": [
      " * Running on http://localhost:5000/ (Press CTRL+C to quit)\n",
      "127.0.0.1 - - [29/Apr/2021 20:22:32] \"\u001b[37mGET / HTTP/1.1\u001b[0m\" 200 -\n",
      "127.0.0.1 - - [29/Apr/2021 20:22:35] \"\u001b[32mPOST / HTTP/1.1\u001b[0m\" 302 -\n",
      "C:\\Users\\User1\\anaconda3\\lib\\site-packages\\tensorflow\\python\\keras\\engine\\training.py:2325: UserWarning: `Model.state_updates` will be removed in a future version. This property should not be used in TensorFlow 2.0, as `updates` are applied automatically.\n",
      "  warnings.warn('`Model.state_updates` will be removed in a future version. '\n",
      "127.0.0.1 - - [29/Apr/2021 20:22:37] \"\u001b[37mGET /prediction/AppleScab3.JPG HTTP/1.1\u001b[0m\" 200 -\n"
     ]
    },
    {
     "name": "stdout",
     "output_type": "stream",
     "text": [
      "[9.9997842e-01 1.5488697e-05 4.0773730e-06 2.0080433e-06]\n"
     ]
    },
    {
     "name": "stderr",
     "output_type": "stream",
     "text": [
      "127.0.0.1 - - [29/Apr/2021 20:22:43] \"\u001b[37mGET / HTTP/1.1\u001b[0m\" 200 -\n",
      "127.0.0.1 - - [29/Apr/2021 20:22:47] \"\u001b[32mPOST / HTTP/1.1\u001b[0m\" 302 -\n",
      "127.0.0.1 - - [29/Apr/2021 20:22:49] \"\u001b[37mGET /prediction/AppleCedarRust1.JPG HTTP/1.1\u001b[0m\" 200 -\n"
     ]
    },
    {
     "name": "stdout",
     "output_type": "stream",
     "text": [
      "[3.5531143e-06 6.4928472e-06 9.9998999e-01 2.4378311e-08]\n"
     ]
    },
    {
     "name": "stderr",
     "output_type": "stream",
     "text": [
      "127.0.0.1 - - [29/Apr/2021 20:24:16] \"\u001b[37mGET / HTTP/1.1\u001b[0m\" 200 -\n",
      "127.0.0.1 - - [29/Apr/2021 20:25:02] \"\u001b[32mPOST / HTTP/1.1\u001b[0m\" 302 -\n",
      "127.0.0.1 - - [29/Apr/2021 20:25:06] \"\u001b[37mGET /prediction/AppleCedarRust2.JPG HTTP/1.1\u001b[0m\" 200 -\n"
     ]
    },
    {
     "name": "stdout",
     "output_type": "stream",
     "text": [
      "[8.4076376e-08 6.8996222e-08 9.9999988e-01 2.6040019e-09]\n"
     ]
    },
    {
     "name": "stderr",
     "output_type": "stream",
     "text": [
      "127.0.0.1 - - [29/Apr/2021 20:25:10] \"\u001b[37mGET / HTTP/1.1\u001b[0m\" 200 -\n",
      "127.0.0.1 - - [29/Apr/2021 20:38:16] \"\u001b[32mPOST / HTTP/1.1\u001b[0m\" 302 -\n",
      "127.0.0.1 - - [29/Apr/2021 20:38:19] \"\u001b[37mGET /prediction/AppleCedarRust1.JPG HTTP/1.1\u001b[0m\" 200 -\n"
     ]
    },
    {
     "name": "stdout",
     "output_type": "stream",
     "text": [
      "[3.5531143e-06 6.4928472e-06 9.9998999e-01 2.4378311e-08]\n"
     ]
    },
    {
     "name": "stderr",
     "output_type": "stream",
     "text": [
      "127.0.0.1 - - [29/Apr/2021 20:38:21] \"\u001b[37mGET / HTTP/1.1\u001b[0m\" 200 -\n",
      "127.0.0.1 - - [29/Apr/2021 20:38:35] \"\u001b[32mPOST / HTTP/1.1\u001b[0m\" 302 -\n",
      "127.0.0.1 - - [29/Apr/2021 20:38:39] \"\u001b[37mGET /prediction/CornCommonRust3.JPG HTTP/1.1\u001b[0m\" 200 -\n"
     ]
    },
    {
     "name": "stdout",
     "output_type": "stream",
     "text": [
      "[9.9962199e-01 3.4426209e-06 3.7456787e-04 7.3245707e-09]\n"
     ]
    },
    {
     "name": "stderr",
     "output_type": "stream",
     "text": [
      "127.0.0.1 - - [29/Apr/2021 20:38:50] \"\u001b[37mGET / HTTP/1.1\u001b[0m\" 200 -\n",
      "127.0.0.1 - - [29/Apr/2021 21:34:44] \"\u001b[32mPOST / HTTP/1.1\u001b[0m\" 302 -\n",
      "127.0.0.1 - - [29/Apr/2021 21:34:48] \"\u001b[37mGET /prediction/TomatoHealthy4.JPG HTTP/1.1\u001b[0m\" 200 -\n"
     ]
    },
    {
     "name": "stdout",
     "output_type": "stream",
     "text": [
      "[9.9585658e-01 5.1579282e-05 4.3041233e-04 3.6614521e-03]\n"
     ]
    },
    {
     "name": "stderr",
     "output_type": "stream",
     "text": [
      "127.0.0.1 - - [29/Apr/2021 21:34:53] \"\u001b[37mGET / HTTP/1.1\u001b[0m\" 200 -\n",
      "127.0.0.1 - - [29/Apr/2021 21:34:56] \"\u001b[32mPOST / HTTP/1.1\u001b[0m\" 302 -\n",
      "127.0.0.1 - - [29/Apr/2021 21:35:00] \"\u001b[37mGET /prediction/AppleCedarRust2.JPG HTTP/1.1\u001b[0m\" 200 -\n"
     ]
    },
    {
     "name": "stdout",
     "output_type": "stream",
     "text": [
      "[8.4076376e-08 6.8996222e-08 9.9999988e-01 2.6040019e-09]\n"
     ]
    },
    {
     "name": "stderr",
     "output_type": "stream",
     "text": [
      "127.0.0.1 - - [29/Apr/2021 21:35:05] \"\u001b[37mGET / HTTP/1.1\u001b[0m\" 200 -\n",
      "127.0.0.1 - - [29/Apr/2021 21:35:10] \"\u001b[32mPOST / HTTP/1.1\u001b[0m\" 302 -\n",
      "127.0.0.1 - - [29/Apr/2021 21:35:14] \"\u001b[37mGET /prediction/AppleScab3.JPG HTTP/1.1\u001b[0m\" 200 -\n"
     ]
    },
    {
     "name": "stdout",
     "output_type": "stream",
     "text": [
      "[9.9997842e-01 1.5488697e-05 4.0773730e-06 2.0080433e-06]\n"
     ]
    },
    {
     "name": "stderr",
     "output_type": "stream",
     "text": [
      "127.0.0.1 - - [29/Apr/2021 21:35:28] \"\u001b[37mGET / HTTP/1.1\u001b[0m\" 200 -\n"
     ]
    }
   ],
   "source": [
    "print(\"Loading model\")\n",
    "global sess\n",
    "sess = tf.compat.v1.Session()\n",
    "K.set_session(sess)\n",
    "global graph\n",
    "graph = tf.compat.v1.get_default_graph()\n",
    "\n",
    "@app.route('/', methods=['GET','POST'])\n",
    "def main_page():\n",
    "    if request.method == 'POST':\n",
    "        file = request.files['file']\n",
    "        filename = secure_filename(file.filename)\n",
    "        file.save(os.path.join('uploads', filename))\n",
    "        return redirect(url_for('prediction', filename=filename))\n",
    "    return render_template('index.html')\n",
    "\n",
    "@app.route('/prediction/<filename>')\n",
    "def prediction(filename):\n",
    "    #Step 1\n",
    "    my_image = plt.imread(os.path.join('uploads', filename))\n",
    "    #Step 2\n",
    "    my_image_re = resize(my_image, (224,224,3))\n",
    "    \n",
    "    #Step 3\n",
    "    with graph.as_default():\n",
    "        K.set_session(sess)\n",
    "        model = load_model('leaf-cnn.h5')\n",
    "        probabilities = model.predict(np.array( [my_image_re,] ))[0,:]\n",
    "        print(probabilities)\n",
    "#Step 4\n",
    "    number_to_class = ['Apple___Apple_scab', 'Apple___Black_rot', 'Apple___Cedar_apple_rust', 'Apple___healthy']\n",
    "      \n",
    "    index = np.argsort(probabilities)\n",
    "       \n",
    "    predictions = {\n",
    "       \"class1\":number_to_class[index[3]],\n",
    "        \"class2\":number_to_class[index[2]],\n",
    "        \"prob1\":probabilities[index[3]],\n",
    "        \"prob2\":probabilities[index[2]],\n",
    "      }\n",
    "#Step 5\n",
    "    return render_template('predict.html', predictions=predictions)\n",
    "app.debug = False\n",
    "app.run(host='localhost')"
   ]
  }
 ],
 "metadata": {
  "kernelspec": {
   "display_name": "Python 3",
   "language": "python",
   "name": "python3"
  },
  "language_info": {
   "codemirror_mode": {
    "name": "ipython",
    "version": 3
   },
   "file_extension": ".py",
   "mimetype": "text/x-python",
   "name": "python",
   "nbconvert_exporter": "python",
   "pygments_lexer": "ipython3",
   "version": "3.8.3"
  }
 },
 "nbformat": 4,
 "nbformat_minor": 4
}
